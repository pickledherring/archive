{
 "cells": [
  {
   "cell_type": "code",
   "execution_count": 1,
   "metadata": {},
   "outputs": [],
   "source": [
    "# Dependencies\n",
    "from bs4 import BeautifulSoup as bs\n",
    "import requests\n",
    "from requests.exceptions import ConnectionError\n",
    "import json\n",
    "from selenium import webdriver\n",
    "from selenium.webdriver.common.by import By\n",
    "from selenium.webdriver.common.action_chains import ActionChains\n",
    "from selenium.webdriver.chrome.service import Service\n",
    "import time\n",
    "from datetime import datetime\n",
    "from selenium.webdriver.common.keys import Keys\n",
    "from webdriver_manager.chrome import ChromeDriverManager"
   ]
  },
  {
   "cell_type": "code",
   "execution_count": 2,
   "metadata": {},
   "outputs": [],
   "source": [
    "def check_within_day(dt):\n",
    "    current_datetime = datetime.now()\n",
    "    time_difference = current_datetime - dt\n",
    "    if time_difference.total_seconds() < 86400:\n",
    "        return True\n",
    "    else:\n",
    "        return False"
   ]
  },
  {
   "cell_type": "code",
   "execution_count": 3,
   "metadata": {},
   "outputs": [],
   "source": [
    "def download(url, save_path):\n",
    "    response = requests.get(url, stream=True)\n",
    "    # Check if the request was successful\n",
    "    if response.status_code == 200:\n",
    "        with open(save_path, 'wb') as f:\n",
    "            for chunk in response.iter_content(chunk_size=1024):\n",
    "                f.write(chunk)\n",
    "    else:\n",
    "        raise ConnectionError()\n"
   ]
  },
  {
   "cell_type": "code",
   "execution_count": 4,
   "metadata": {},
   "outputs": [
    {
     "ename": "WebDriverException",
     "evalue": "Message: unknown error: cannot find Chrome binary\nStacktrace:\nBacktrace:\n\tGetHandleVerifier [0x0035A813+48355]\n\t(No symbol) [0x002EC4B1]\n\t(No symbol) [0x001F5358]\n\t(No symbol) [0x00211A9E]\n\t(No symbol) [0x00210579]\n\t(No symbol) [0x00240C55]\n\t(No symbol) [0x0024093C]\n\t(No symbol) [0x0023A536]\n\t(No symbol) [0x002182DC]\n\t(No symbol) [0x002193DD]\n\tGetHandleVerifier [0x005BAABD+2539405]\n\tGetHandleVerifier [0x005FA78F+2800735]\n\tGetHandleVerifier [0x005F456C+2775612]\n\tGetHandleVerifier [0x003E51E0+616112]\n\t(No symbol) [0x002F5F8C]\n\t(No symbol) [0x002F2328]\n\t(No symbol) [0x002F240B]\n\t(No symbol) [0x002E4FF7]\n\tBaseThreadInitThunk [0x76E95D49+25]\n\tRtlInitializeExceptionChain [0x7782D1AB+107]\n\tRtlGetAppContainerNamedObjectPath [0x7782D131+561]\n",
     "output_type": "error",
     "traceback": [
      "\u001b[31m---------------------------------------------------------------------------\u001b[39m",
      "\u001b[31mWebDriverException\u001b[39m                        Traceback (most recent call last)",
      "\u001b[36mCell\u001b[39m\u001b[36m \u001b[39m\u001b[32mIn[4]\u001b[39m\u001b[32m, line 1\u001b[39m\n\u001b[32m----> \u001b[39m\u001b[32m1\u001b[39m driver = \u001b[43mwebdriver\u001b[49m\u001b[43m.\u001b[49m\u001b[43mChrome\u001b[49m\u001b[43m(\u001b[49m\u001b[43mservice\u001b[49m\u001b[43m=\u001b[49m\u001b[43mService\u001b[49m\u001b[43m(\u001b[49m\u001b[43mChromeDriverManager\u001b[49m\u001b[43m(\u001b[49m\u001b[43m)\u001b[49m\u001b[43m.\u001b[49m\u001b[43minstall\u001b[49m\u001b[43m(\u001b[49m\u001b[43m)\u001b[49m\u001b[43m)\u001b[49m\u001b[43m)\u001b[49m\n\u001b[32m      2\u001b[39m driver.get(\u001b[33m\"\u001b[39m\u001b[33mhttps://www.reddit.com/r/Seattle/new\u001b[39m\u001b[33m\"\u001b[39m)\n\u001b[32m      3\u001b[39m \u001b[38;5;66;03m# Get scroll height\u001b[39;00m\n",
      "\u001b[36mFile \u001b[39m\u001b[32mc:\\Users\\Owner\\AppData\\Local\\Programs\\Python\\Python312\\Lib\\site-packages\\selenium\\webdriver\\chrome\\webdriver.py:47\u001b[39m, in \u001b[36mWebDriver.__init__\u001b[39m\u001b[34m(self, options, service, keep_alive)\u001b[39m\n\u001b[32m     44\u001b[39m service = service \u001b[38;5;28;01mif\u001b[39;00m service \u001b[38;5;28;01melse\u001b[39;00m Service()\n\u001b[32m     45\u001b[39m options = options \u001b[38;5;28;01mif\u001b[39;00m options \u001b[38;5;28;01melse\u001b[39;00m Options()\n\u001b[32m---> \u001b[39m\u001b[32m47\u001b[39m \u001b[38;5;28;43msuper\u001b[39;49m\u001b[43m(\u001b[49m\u001b[43m)\u001b[49m\u001b[43m.\u001b[49m\u001b[34;43m__init__\u001b[39;49m\u001b[43m(\u001b[49m\n\u001b[32m     48\u001b[39m \u001b[43m    \u001b[49m\u001b[43mbrowser_name\u001b[49m\u001b[43m=\u001b[49m\u001b[43mDesiredCapabilities\u001b[49m\u001b[43m.\u001b[49m\u001b[43mCHROME\u001b[49m\u001b[43m[\u001b[49m\u001b[33;43m\"\u001b[39;49m\u001b[33;43mbrowserName\u001b[39;49m\u001b[33;43m\"\u001b[39;49m\u001b[43m]\u001b[49m\u001b[43m,\u001b[49m\n\u001b[32m     49\u001b[39m \u001b[43m    \u001b[49m\u001b[43mvendor_prefix\u001b[49m\u001b[43m=\u001b[49m\u001b[33;43m\"\u001b[39;49m\u001b[33;43mgoog\u001b[39;49m\u001b[33;43m\"\u001b[39;49m\u001b[43m,\u001b[49m\n\u001b[32m     50\u001b[39m \u001b[43m    \u001b[49m\u001b[43moptions\u001b[49m\u001b[43m=\u001b[49m\u001b[43moptions\u001b[49m\u001b[43m,\u001b[49m\n\u001b[32m     51\u001b[39m \u001b[43m    \u001b[49m\u001b[43mservice\u001b[49m\u001b[43m=\u001b[49m\u001b[43mservice\u001b[49m\u001b[43m,\u001b[49m\n\u001b[32m     52\u001b[39m \u001b[43m    \u001b[49m\u001b[43mkeep_alive\u001b[49m\u001b[43m=\u001b[49m\u001b[43mkeep_alive\u001b[49m\u001b[43m,\u001b[49m\n\u001b[32m     53\u001b[39m \u001b[43m\u001b[49m\u001b[43m)\u001b[49m\n",
      "\u001b[36mFile \u001b[39m\u001b[32mc:\\Users\\Owner\\AppData\\Local\\Programs\\Python\\Python312\\Lib\\site-packages\\selenium\\webdriver\\chromium\\webdriver.py:69\u001b[39m, in \u001b[36mChromiumDriver.__init__\u001b[39m\u001b[34m(self, browser_name, vendor_prefix, options, service, keep_alive)\u001b[39m\n\u001b[32m     60\u001b[39m executor = ChromiumRemoteConnection(\n\u001b[32m     61\u001b[39m     remote_server_addr=\u001b[38;5;28mself\u001b[39m.service.service_url,\n\u001b[32m     62\u001b[39m     browser_name=browser_name,\n\u001b[32m   (...)\u001b[39m\u001b[32m     65\u001b[39m     ignore_proxy=options._ignore_local_proxy,\n\u001b[32m     66\u001b[39m )\n\u001b[32m     68\u001b[39m \u001b[38;5;28;01mtry\u001b[39;00m:\n\u001b[32m---> \u001b[39m\u001b[32m69\u001b[39m     \u001b[38;5;28;43msuper\u001b[39;49m\u001b[43m(\u001b[49m\u001b[43m)\u001b[49m\u001b[43m.\u001b[49m\u001b[34;43m__init__\u001b[39;49m\u001b[43m(\u001b[49m\u001b[43mcommand_executor\u001b[49m\u001b[43m=\u001b[49m\u001b[43mexecutor\u001b[49m\u001b[43m,\u001b[49m\u001b[43m \u001b[49m\u001b[43moptions\u001b[49m\u001b[43m=\u001b[49m\u001b[43moptions\u001b[49m\u001b[43m)\u001b[49m\n\u001b[32m     70\u001b[39m \u001b[38;5;28;01mexcept\u001b[39;00m \u001b[38;5;167;01mException\u001b[39;00m:\n\u001b[32m     71\u001b[39m     \u001b[38;5;28mself\u001b[39m.quit()\n",
      "\u001b[36mFile \u001b[39m\u001b[32mc:\\Users\\Owner\\AppData\\Local\\Programs\\Python\\Python312\\Lib\\site-packages\\selenium\\webdriver\\remote\\webdriver.py:261\u001b[39m, in \u001b[36mWebDriver.__init__\u001b[39m\u001b[34m(self, command_executor, keep_alive, file_detector, options, locator_converter, web_element_cls, client_config)\u001b[39m\n\u001b[32m    259\u001b[39m \u001b[38;5;28mself\u001b[39m._authenticator_id = \u001b[38;5;28;01mNone\u001b[39;00m\n\u001b[32m    260\u001b[39m \u001b[38;5;28mself\u001b[39m.start_client()\n\u001b[32m--> \u001b[39m\u001b[32m261\u001b[39m \u001b[38;5;28;43mself\u001b[39;49m\u001b[43m.\u001b[49m\u001b[43mstart_session\u001b[49m\u001b[43m(\u001b[49m\u001b[43mcapabilities\u001b[49m\u001b[43m)\u001b[49m\n\u001b[32m    262\u001b[39m \u001b[38;5;28mself\u001b[39m._fedcm = FedCM(\u001b[38;5;28mself\u001b[39m)\n\u001b[32m    264\u001b[39m \u001b[38;5;28mself\u001b[39m._websocket_connection = \u001b[38;5;28;01mNone\u001b[39;00m\n",
      "\u001b[36mFile \u001b[39m\u001b[32mc:\\Users\\Owner\\AppData\\Local\\Programs\\Python\\Python312\\Lib\\site-packages\\selenium\\webdriver\\remote\\webdriver.py:362\u001b[39m, in \u001b[36mWebDriver.start_session\u001b[39m\u001b[34m(self, capabilities)\u001b[39m\n\u001b[32m    360\u001b[39m caps = _create_caps(capabilities)\n\u001b[32m    361\u001b[39m \u001b[38;5;28;01mtry\u001b[39;00m:\n\u001b[32m--> \u001b[39m\u001b[32m362\u001b[39m     response = \u001b[38;5;28;43mself\u001b[39;49m\u001b[43m.\u001b[49m\u001b[43mexecute\u001b[49m\u001b[43m(\u001b[49m\u001b[43mCommand\u001b[49m\u001b[43m.\u001b[49m\u001b[43mNEW_SESSION\u001b[49m\u001b[43m,\u001b[49m\u001b[43m \u001b[49m\u001b[43mcaps\u001b[49m\u001b[43m)\u001b[49m[\u001b[33m\"\u001b[39m\u001b[33mvalue\u001b[39m\u001b[33m\"\u001b[39m]\n\u001b[32m    363\u001b[39m     \u001b[38;5;28mself\u001b[39m.session_id = response.get(\u001b[33m\"\u001b[39m\u001b[33msessionId\u001b[39m\u001b[33m\"\u001b[39m)\n\u001b[32m    364\u001b[39m     \u001b[38;5;28mself\u001b[39m.caps = response.get(\u001b[33m\"\u001b[39m\u001b[33mcapabilities\u001b[39m\u001b[33m\"\u001b[39m)\n",
      "\u001b[36mFile \u001b[39m\u001b[32mc:\\Users\\Owner\\AppData\\Local\\Programs\\Python\\Python312\\Lib\\site-packages\\selenium\\webdriver\\remote\\webdriver.py:454\u001b[39m, in \u001b[36mWebDriver.execute\u001b[39m\u001b[34m(self, driver_command, params)\u001b[39m\n\u001b[32m    451\u001b[39m response = cast(RemoteConnection, \u001b[38;5;28mself\u001b[39m.command_executor).execute(driver_command, params)\n\u001b[32m    453\u001b[39m \u001b[38;5;28;01mif\u001b[39;00m response:\n\u001b[32m--> \u001b[39m\u001b[32m454\u001b[39m     \u001b[38;5;28;43mself\u001b[39;49m\u001b[43m.\u001b[49m\u001b[43merror_handler\u001b[49m\u001b[43m.\u001b[49m\u001b[43mcheck_response\u001b[49m\u001b[43m(\u001b[49m\u001b[43mresponse\u001b[49m\u001b[43m)\u001b[49m\n\u001b[32m    455\u001b[39m     response[\u001b[33m\"\u001b[39m\u001b[33mvalue\u001b[39m\u001b[33m\"\u001b[39m] = \u001b[38;5;28mself\u001b[39m._unwrap_value(response.get(\u001b[33m\"\u001b[39m\u001b[33mvalue\u001b[39m\u001b[33m\"\u001b[39m, \u001b[38;5;28;01mNone\u001b[39;00m))\n\u001b[32m    456\u001b[39m     \u001b[38;5;28;01mreturn\u001b[39;00m response\n",
      "\u001b[36mFile \u001b[39m\u001b[32mc:\\Users\\Owner\\AppData\\Local\\Programs\\Python\\Python312\\Lib\\site-packages\\selenium\\webdriver\\remote\\errorhandler.py:232\u001b[39m, in \u001b[36mErrorHandler.check_response\u001b[39m\u001b[34m(self, response)\u001b[39m\n\u001b[32m    230\u001b[39m         alert_text = value[\u001b[33m\"\u001b[39m\u001b[33malert\u001b[39m\u001b[33m\"\u001b[39m].get(\u001b[33m\"\u001b[39m\u001b[33mtext\u001b[39m\u001b[33m\"\u001b[39m)\n\u001b[32m    231\u001b[39m     \u001b[38;5;28;01mraise\u001b[39;00m exception_class(message, screen, stacktrace, alert_text)  \u001b[38;5;66;03m# type: ignore[call-arg]  # mypy is not smart enough here\u001b[39;00m\n\u001b[32m--> \u001b[39m\u001b[32m232\u001b[39m \u001b[38;5;28;01mraise\u001b[39;00m exception_class(message, screen, stacktrace)\n",
      "\u001b[31mWebDriverException\u001b[39m: Message: unknown error: cannot find Chrome binary\nStacktrace:\nBacktrace:\n\tGetHandleVerifier [0x0035A813+48355]\n\t(No symbol) [0x002EC4B1]\n\t(No symbol) [0x001F5358]\n\t(No symbol) [0x00211A9E]\n\t(No symbol) [0x00210579]\n\t(No symbol) [0x00240C55]\n\t(No symbol) [0x0024093C]\n\t(No symbol) [0x0023A536]\n\t(No symbol) [0x002182DC]\n\t(No symbol) [0x002193DD]\n\tGetHandleVerifier [0x005BAABD+2539405]\n\tGetHandleVerifier [0x005FA78F+2800735]\n\tGetHandleVerifier [0x005F456C+2775612]\n\tGetHandleVerifier [0x003E51E0+616112]\n\t(No symbol) [0x002F5F8C]\n\t(No symbol) [0x002F2328]\n\t(No symbol) [0x002F240B]\n\t(No symbol) [0x002E4FF7]\n\tBaseThreadInitThunk [0x76E95D49+25]\n\tRtlInitializeExceptionChain [0x7782D1AB+107]\n\tRtlGetAppContainerNamedObjectPath [0x7782D131+561]\n"
     ]
    }
   ],
   "source": [
    "driver = webdriver.Chrome(service=Service(ChromeDriverManager().install()))\n",
    "driver.get(\"https://www.reddit.com/r/Seattle/new\")\n",
    "# Get scroll height\n",
    "day_loaded = False\n",
    "num_results = 0\n",
    "post_info = []\n",
    "while not day_loaded:\n",
    "    html = driver.page_source\n",
    "    soup = bs(html, 'html.parser')\n",
    "    results = soup.find_all('shreddit-post')\n",
    "    for result in results[num_results:]:\n",
    "        flair = result.find('span', class_='bg-tone-4')\n",
    "        if flair:\n",
    "            flair_text = flair.text.split('\\n')[1][6:]\n",
    "        else:\n",
    "            flair_text = \"no flair\"\n",
    "\n",
    "        shreddit_post = bs(str(result).split('\\n')[0], 'html.parser').find()\n",
    "        author = shreddit_post['author']\n",
    "        title = shreddit_post['post-title']\n",
    "        score = shreddit_post.get('score', 'hidden')\n",
    "        link = shreddit_post['content-href']\n",
    "        timestamp = shreddit_post['created-timestamp']\n",
    "        post_type = shreddit_post['post-type']\n",
    "\n",
    "        timestamp = datetime.strptime(timestamp, \"%Y-%m-%dT%H:%M:%S.%f%z\")\n",
    "        dt = timestamp.replace(tzinfo=None)\n",
    "        if not check_within_day(dt):\n",
    "            day_loaded = True\n",
    "            break\n",
    "        else:\n",
    "            video = None\n",
    "            audio = None\n",
    "\n",
    "            post_info.append({\n",
    "                \"author\": author,\n",
    "                \"title\": title,\n",
    "                \"score\": score,\n",
    "                \"content_link\": link,\n",
    "                \"dt\": dt,\n",
    "                \"flair\": flair_text,\n",
    "                \"post_type\": post_type,\n",
    "            })\n",
    "    \n",
    "    # get previous result length to skip past checked results\n",
    "    num_results = len(results)\n",
    "    # Scroll down to bottom\n",
    "    driver.execute_script(\"window.scrollTo(0, document.body.scrollHeight);\")\n",
    "    time.sleep(2)\n",
    "    \n",
    "driver.quit()\n",
    "post_info\n"
   ]
  },
  {
   "cell_type": "code",
   "execution_count": 129,
   "metadata": {},
   "outputs": [
    {
     "name": "stdout",
     "output_type": "stream",
     "text": [
      "Anti-Junta forces attacking the Launglon Myoma Police Station on September 21st, 6:23AM local time. It is reported two members of the security forces were eliminated. Also, quite an interesting video due to them using a guncam.\n",
      "()\n",
      "https://v.redd.it/icqzf7lbsmpb1/DASH_720.mp4?source=fallback https://v.redd.it/icqzf7lbsmpb1/DASH_360.mp4?source=fallback\n",
      "Anti-junta Forces attacking Myanmar army columns belonging to the 101st Light Infantry Division and several casualties, including atleast 1 fatality, were reported in Pakokku, Magwe, 21 September.\n",
      "https://v.redd.it/dbcipfiggmpb1/DASH_720.mp4?source=fallback https://v.redd.it/icqzf7lbsmpb1/DASH_360.mp4?source=fallback\n",
      "Greener GP and M1 Carbines captured from a Pyu Saw Htee outpost in Gangaw township, Magway Region.\n",
      "https://www.reddit.com/gallery/16ogpug\n",
      "Myanmar Army handing out captured Type 81s and old vintage rifles from storage to Pro-military militias in Bago Rigions.\n",
      "https://www.reddit.com/gallery/16ogoog\n",
      "Weapons and munitions capture from a Myanmar Army outpost on the Puta-O Myitkyina highway.\n",
      "https://www.reddit.com/gallery/16o5etr\n",
      "Anti-Junta Forces arresting a police sergeant in Yinmarbin. \n",
      "()\n",
      "https://v.redd.it/qd76x8lsyipb1/DASH_720.mp4?source=fallback https://v.redd.it/qd76x8lsyipb1/DASH_360.mp4?source=fallback\n",
      "Anti-Junta Forces capturing a Myanmar Army outpost near the Thai Border.\n",
      "https://v.redd.it/74abre3uvipb1/DASH_720.mp4?source=fallback https://v.redd.it/qd76x8lsyipb1/DASH_360.mp4?source=fallback\n",
      "Rebels in Myanmar develop attack drones\n",
      "https://youtu.be/1kGr2F3o0rI?si=5UhaTHZQ295aUa9N\n",
      "Myaung Revolution Force attacking a Myanmar military column (visible at start), Myaung Township, Sagaing, September 19th.\n",
      "https://v.redd.it/80x3s346jgpb1/DASH_720.mp4?source=fallback https://v.redd.it/qd76x8lsyipb1/DASH_360.mp4?source=fallback\n",
      "Question relating to what flairs should be applied to videos.\n",
      "https://www.reddit.com/r/Myanmarcombatfootage/comments/16nspng/question_relating_to_what_flairs_should_be/\n",
      "Myanmar military force attacked by KNLA on Yangon-Mawlamyine highway, Yangon region on 20th September. Reports say 5 Junta personnel were killed during the attack.\n",
      "https://v.redd.it/593b5sy4dgpb1/DASH_720.mp4?source=fallback https://v.redd.it/qd76x8lsyipb1/DASH_360.mp4?source=fallback\n",
      "Anti-Junta Forces bombing a Myanmar Army admin building in Loikaw, Kayar State. \n",
      "https://v.redd.it/6057sva3pfpb1/DASH_720.mp4?source=fallback https://v.redd.it/qd76x8lsyipb1/DASH_360.mp4?source=fallback\n",
      "Equipment captured by TNLA during fighting with Myanmar military in Muse recently. Atleast 700 have been displaced from fighting according to the TNLA.\n",
      "https://www.reddit.com/gallery/16nosz5\n",
      "Captured Pyusawhti Chinese-made M22 Type 56, Tanintharyi region 20 september.\n",
      "https://i.redd.it/ta0g1eq9efpb1.jpg\n"
     ]
    }
   ],
   "source": [
    "for post in post_info:\n",
    "    title = post['title']\n",
    "    link = post['content_link']\n",
    "    print(post['title'])\n",
    "\n",
    "    if post['post_type'] == 'video':\n",
    "        try:\n",
    "            video_720 = f'{link}/DASH_720.mp4?source=fallback'\n",
    "            download(video_720, f'downloads/{title}_video_720.mp4')\n",
    "        except ConnectionError as e:\n",
    "            print(e.args)\n",
    "            video_360 = f'{link}/DASH_360.mp4?source=fallback'\n",
    "            download(video_360, f'downloads/{title}_video_360.mp4')\n",
    "        finally:\n",
    "            print(video_720, video_360)\n",
    "\n",
    "        audio_128 = f'{link}/DASH_AUDIO_128.mp4'\n",
    "        download(audio_128, f'downloads/{title}_audio_128.mp4')\n",
    "    \n",
    "    else:\n",
    "        print(post['content_link'])\n",
    "\n",
    "    time.wait(1)"
   ]
  }
 ],
 "metadata": {
  "kernelspec": {
   "display_name": "Python 3",
   "language": "python",
   "name": "python3"
  },
  "language_info": {
   "codemirror_mode": {
    "name": "ipython",
    "version": 3
   },
   "file_extension": ".py",
   "mimetype": "text/x-python",
   "name": "python",
   "nbconvert_exporter": "python",
   "pygments_lexer": "ipython3",
   "version": "3.12.4"
  },
  "orig_nbformat": 4
 },
 "nbformat": 4,
 "nbformat_minor": 2
}
